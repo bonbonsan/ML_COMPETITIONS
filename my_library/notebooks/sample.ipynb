{
 "cells": [
  {
   "cell_type": "code",
   "execution_count": 1,
   "id": "80bf0f1e-ee38-42d9-94cf-1aa038296b76",
   "metadata": {},
   "outputs": [
    {
     "name": "stdout",
     "output_type": "stream",
     "text": [
      "Added to sys.path: /workspace\n"
     ]
    }
   ],
   "source": [
    "import sys\n",
    "import os\n",
    "\n",
    "\n",
    "cwd = os.getcwd()\n",
    "project_root = None\n",
    "    \n",
    "# Check if any of the specified directory names are in the current path\n",
    "for dir_name in (\"ML_competitions\", \"workspace\"):\n",
    "    if dir_name in cwd:\n",
    "        project_root = cwd[:cwd.index(dir_name) + len(dir_name)]\n",
    "        break\n",
    "    \n",
    "if project_root:\n",
    "    if project_root not in sys.path:\n",
    "        sys.path.append(project_root)\n",
    "        print(f\"Added to sys.path: {project_root}\")\n",
    "else:\n",
    "    raise RuntimeError(f\"None of {root_dir_names} found in current path: {cwd}\")"
   ]
  },
  {
   "cell_type": "code",
   "execution_count": null,
   "id": "23eb61d7",
   "metadata": {},
   "outputs": [],
   "source": []
  },
  {
   "cell_type": "code",
   "execution_count": null,
   "id": "6ed23c28-7515-481d-b76d-9575dcb58bca",
   "metadata": {},
   "outputs": [],
   "source": []
  },
  {
   "cell_type": "code",
   "execution_count": null,
   "id": "df2f1f95-2938-4ae1-92eb-7b7fd3608f6a",
   "metadata": {},
   "outputs": [],
   "source": []
  }
 ],
 "metadata": {
  "kernelspec": {
   "display_name": "kaggle-venv",
   "language": "python",
   "name": "python3"
  },
  "language_info": {
   "codemirror_mode": {
    "name": "ipython",
    "version": 3
   },
   "file_extension": ".py",
   "mimetype": "text/x-python",
   "name": "python",
   "nbconvert_exporter": "python",
   "pygments_lexer": "ipython3",
   "version": "3.11.11"
  }
 },
 "nbformat": 4,
 "nbformat_minor": 5
}
