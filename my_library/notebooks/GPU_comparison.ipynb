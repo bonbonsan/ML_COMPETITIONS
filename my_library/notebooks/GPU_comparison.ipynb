{
 "cells": [
  {
   "cell_type": "markdown",
   "id": "cee66e39-6c91-4a18-97f0-65839c172766",
   "metadata": {},
   "source": [
    "# GPU speed comparison"
   ]
  },
  {
   "cell_type": "code",
   "execution_count": 1,
   "id": "9decc50d-1482-4e53-b21a-93e02d9107b9",
   "metadata": {},
   "outputs": [
    {
     "name": "stdout",
     "output_type": "stream",
     "text": [
      "Added to sys.path: /Users/kentookubo/Documents/Projects/ML_competitions\n"
     ]
    }
   ],
   "source": [
    "import sys\n",
    "import os\n",
    "\n",
    "\n",
    "root_dir_name = \"ML_competitions\"\n",
    "cwd = os.getcwd()\n",
    "\n",
    "if root_dir_name in cwd:\n",
    "    project_root = cwd[:cwd.index(root_dir_name) + len(root_dir_name)]\n",
    "    \n",
    "    if project_root not in sys.path:\n",
    "        sys.path.append(project_root)\n",
    "        print(f\"Added to sys.path: {project_root}\")\n",
    "else:\n",
    "    raise RuntimeError(f\"'{root_dir_name} not found in current path\")"
   ]
  },
  {
   "cell_type": "code",
   "execution_count": 2,
   "id": "d2f018fd-5a19-4619-bbc7-60339e27c855",
   "metadata": {},
   "outputs": [],
   "source": [
    "import numpy as np\n",
    "import pandas as pd\n",
    "from sklearn.datasets import make_classification\n",
    "\n",
    "from my_library.models.custom_tabn import CustomTabNetModel\n",
    "from my_library.configs.model_configs.tabn_configs import TabNetConfig\n",
    "from my_library.configs.model_configs.fit_configs import FitConfig\n",
    "from my_library.validations.validation_runner import ValidationRunner\n",
    "from my_library.parameter_tunings.optuna_tuner import OptunaValidationTuner\n",
    "from my_library.utils.timeit import timeit\n",
    "from my_library.splitters.cross_validation import CrossValidationSplitter\n",
    "\n",
    "from sklearn.metrics import roc_auc_score"
   ]
  },
  {
   "cell_type": "code",
   "execution_count": 3,
   "id": "fb7d28eb-a83a-4010-85db-c0c2122786eb",
   "metadata": {},
   "outputs": [],
   "source": [
    "# 擬似巨大データの生成\n",
    "X, y = make_classification(n_samples=100_000, n_features=200, n_informative=50, n_redundant=50, random_state=42)\n",
    "X = pd.DataFrame(X, columns=[f\"feat_{i}\" for i in range(X.shape[1])])\n",
    "y = pd.Series(y, name=\"target\")"
   ]
  },
  {
   "cell_type": "code",
   "execution_count": 4,
   "id": "93dc34ef-722a-4060-97ac-7c5a5296ed59",
   "metadata": {},
   "outputs": [
    {
     "data": {
      "text/plain": [
       "((100000, 200), (100000,))"
      ]
     },
     "execution_count": 4,
     "metadata": {},
     "output_type": "execute_result"
    }
   ],
   "source": [
    "X.shape, y.shape"
   ]
  },
  {
   "cell_type": "code",
   "execution_count": 5,
   "id": "a8294767-fe43-4081-9e30-62d9ddaabdba",
   "metadata": {},
   "outputs": [],
   "source": [
    "# 共通設定\n",
    "feats = X.columns.tolist()\n",
    "fit_config = FitConfig(feats=feats, early_stopping_rounds=10, epochs=100, batch_size=1024)\n",
    "folds = CrossValidationSplitter(n_splits=5, shuffle=True, random_state=42).split(X, y)"
   ]
  },
  {
   "cell_type": "code",
   "execution_count": 6,
   "id": "8224f635-31ec-421c-8bb0-7495e57f9c13",
   "metadata": {},
   "outputs": [],
   "source": [
    "# 実行関数の定義\n",
    "@timeit\n",
    "def run_runner(use_gpu: bool, parallel_mode: str):\n",
    "    config = TabNetConfig(\n",
    "        task_type=\"classification\",\n",
    "        params=dict(n_d=8, n_a=8, n_steps=3, batch_size=1024, max_epochs=100),\n",
    "        use_gpu=use_gpu\n",
    "    )\n",
    "    runner = ValidationRunner(\n",
    "        model_class=CustomTabNetModel,\n",
    "        model_configs=config,\n",
    "        metric_fn=roc_auc_score,\n",
    "        predict_proba=True,\n",
    "        parallel_mode=parallel_mode\n",
    "    )\n",
    "    results = runner.run(folds, fit_config)\n",
    "    return results"
   ]
  },
  {
   "cell_type": "code",
   "execution_count": 7,
   "id": "0c5d8e4e-3eaf-493c-ae09-889019799337",
   "metadata": {},
   "outputs": [
    {
     "name": "stderr",
     "output_type": "stream",
     "text": [
      "2025-05-06 18:24:49,479 - my_library.utils.timeit - INFO - [Start] run_runner\n",
      "2025-05-06 18:24:49,480 - my_library.validations.validation_runner - INFO - Initialized ValidationRunner | model=CustomTabNetModel task=classification\n",
      "2025-05-06 18:24:49,481 - my_library.utils.timeit - INFO - [Start] ValidationRunner.run\n",
      "2025-05-06 18:24:49,481 - my_library.validations.validation_runner - INFO - Validation run started.\n",
      "2025-05-06 18:24:49,482 - CustomTabNetModel - INFO - Initialized CustomTabNetModel on device=cpu.\n",
      "2025-05-06 18:24:49,483 - CustomTabNetModel - INFO - Initialized CustomTabNetModel on device=cpu.\n",
      "2025-05-06 18:24:49,483 - my_library.validations.validation_runner - INFO - [Fold 1] Train=(80000, 200), Valid=(20000, 200),                 use_gpu=False\n",
      "2025-05-06 18:24:49,484 - my_library.validations.validator - INFO - Initialized Validator for model: CustomTabNetModel\n",
      "2025-05-06 18:24:49,485 - my_library.validations.validator - INFO - Training start | model=CustomTabNetModel samples=80000 features=200\n"
     ]
    },
    {
     "name": "stdout",
     "output_type": "stream",
     "text": [
      "\n",
      "Early stopping occurred at epoch 34 with best_epoch = 14 and best_valid_accuracy = 0.99165\n"
     ]
    },
    {
     "name": "stderr",
     "output_type": "stream",
     "text": [
      "/Users/kentookubo/Documents/Projects/ML_competitions/kaggle-venv/lib/python3.11/site-packages/pytorch_tabnet/callbacks.py:172: UserWarning: Best weights from best epoch are automatically used!\n",
      "  warnings.warn(wrn_msg)\n",
      "2025-05-06 18:28:48,850 - CustomTabNetModel - INFO - TabNet training completed.\n",
      "2025-05-06 18:28:48,875 - my_library.validations.validator - INFO - Training completed.\n",
      "2025-05-06 18:28:49,745 - my_library.validations.validation_runner - INFO - [Fold 1] Score=0.9916\n",
      "2025-05-06 18:28:49,751 - CustomTabNetModel - INFO - Initialized CustomTabNetModel on device=cpu.\n",
      "2025-05-06 18:28:49,752 - my_library.validations.validation_runner - INFO - [Fold 2] Train=(80000, 200), Valid=(20000, 200),                 use_gpu=False\n",
      "2025-05-06 18:28:49,752 - my_library.validations.validator - INFO - Initialized Validator for model: CustomTabNetModel\n",
      "2025-05-06 18:28:49,753 - my_library.validations.validator - INFO - Training start | model=CustomTabNetModel samples=80000 features=200\n"
     ]
    },
    {
     "name": "stdout",
     "output_type": "stream",
     "text": [
      "\n",
      "Early stopping occurred at epoch 37 with best_epoch = 17 and best_valid_accuracy = 0.9924\n"
     ]
    },
    {
     "name": "stderr",
     "output_type": "stream",
     "text": [
      "/Users/kentookubo/Documents/Projects/ML_competitions/kaggle-venv/lib/python3.11/site-packages/pytorch_tabnet/callbacks.py:172: UserWarning: Best weights from best epoch are automatically used!\n",
      "  warnings.warn(wrn_msg)\n",
      "2025-05-06 18:33:10,562 - CustomTabNetModel - INFO - TabNet training completed.\n",
      "2025-05-06 18:33:10,581 - my_library.validations.validator - INFO - Training completed.\n",
      "2025-05-06 18:33:11,521 - my_library.validations.validation_runner - INFO - [Fold 2] Score=0.9924\n",
      "2025-05-06 18:33:11,525 - CustomTabNetModel - INFO - Initialized CustomTabNetModel on device=cpu.\n",
      "2025-05-06 18:33:11,525 - my_library.validations.validation_runner - INFO - [Fold 3] Train=(80000, 200), Valid=(20000, 200),                 use_gpu=False\n",
      "2025-05-06 18:33:11,526 - my_library.validations.validator - INFO - Initialized Validator for model: CustomTabNetModel\n",
      "2025-05-06 18:33:11,527 - my_library.validations.validator - INFO - Training start | model=CustomTabNetModel samples=80000 features=200\n"
     ]
    },
    {
     "name": "stdout",
     "output_type": "stream",
     "text": [
      "\n",
      "Early stopping occurred at epoch 62 with best_epoch = 42 and best_valid_accuracy = 0.99215\n"
     ]
    },
    {
     "name": "stderr",
     "output_type": "stream",
     "text": [
      "/Users/kentookubo/Documents/Projects/ML_competitions/kaggle-venv/lib/python3.11/site-packages/pytorch_tabnet/callbacks.py:172: UserWarning: Best weights from best epoch are automatically used!\n",
      "  warnings.warn(wrn_msg)\n",
      "2025-05-06 18:40:19,470 - CustomTabNetModel - INFO - TabNet training completed.\n",
      "2025-05-06 18:40:19,490 - my_library.validations.validator - INFO - Training completed.\n",
      "2025-05-06 18:40:20,403 - my_library.validations.validation_runner - INFO - [Fold 3] Score=0.9921\n",
      "2025-05-06 18:40:20,410 - CustomTabNetModel - INFO - Initialized CustomTabNetModel on device=cpu.\n",
      "2025-05-06 18:40:20,410 - my_library.validations.validation_runner - INFO - [Fold 4] Train=(80000, 200), Valid=(20000, 200),                 use_gpu=False\n",
      "2025-05-06 18:40:20,411 - my_library.validations.validator - INFO - Initialized Validator for model: CustomTabNetModel\n",
      "2025-05-06 18:40:20,412 - my_library.validations.validator - INFO - Training start | model=CustomTabNetModel samples=80000 features=200\n"
     ]
    },
    {
     "name": "stdout",
     "output_type": "stream",
     "text": [
      "\n",
      "Early stopping occurred at epoch 34 with best_epoch = 14 and best_valid_accuracy = 0.9913\n"
     ]
    },
    {
     "name": "stderr",
     "output_type": "stream",
     "text": [
      "/Users/kentookubo/Documents/Projects/ML_competitions/kaggle-venv/lib/python3.11/site-packages/pytorch_tabnet/callbacks.py:172: UserWarning: Best weights from best epoch are automatically used!\n",
      "  warnings.warn(wrn_msg)\n",
      "2025-05-06 18:44:54,227 - CustomTabNetModel - INFO - TabNet training completed.\n",
      "2025-05-06 18:44:54,244 - my_library.validations.validator - INFO - Training completed.\n",
      "2025-05-06 18:44:55,041 - my_library.validations.validation_runner - INFO - [Fold 4] Score=0.9913\n",
      "2025-05-06 18:44:55,045 - CustomTabNetModel - INFO - Initialized CustomTabNetModel on device=cpu.\n",
      "2025-05-06 18:44:55,046 - my_library.validations.validation_runner - INFO - [Fold 5] Train=(80000, 200), Valid=(20000, 200),                 use_gpu=False\n",
      "2025-05-06 18:44:55,046 - my_library.validations.validator - INFO - Initialized Validator for model: CustomTabNetModel\n",
      "2025-05-06 18:44:55,047 - my_library.validations.validator - INFO - Training start | model=CustomTabNetModel samples=80000 features=200\n"
     ]
    },
    {
     "name": "stdout",
     "output_type": "stream",
     "text": [
      "\n",
      "Early stopping occurred at epoch 46 with best_epoch = 26 and best_valid_accuracy = 0.9926\n"
     ]
    },
    {
     "name": "stderr",
     "output_type": "stream",
     "text": [
      "/Users/kentookubo/Documents/Projects/ML_competitions/kaggle-venv/lib/python3.11/site-packages/pytorch_tabnet/callbacks.py:172: UserWarning: Best weights from best epoch are automatically used!\n",
      "  warnings.warn(wrn_msg)\n",
      "2025-05-06 18:49:53,434 - CustomTabNetModel - INFO - TabNet training completed.\n",
      "2025-05-06 18:49:53,449 - my_library.validations.validator - INFO - Training completed.\n",
      "2025-05-06 18:49:54,313 - my_library.validations.validation_runner - INFO - [Fold 5] Score=0.9926\n",
      "2025-05-06 18:49:54,317 - my_library.validations.validation_runner - INFO - Validation completed | mean=0.9920 std=0.0005\n",
      "2025-05-06 18:49:54,318 - my_library.utils.timeit - INFO - [End] ValidationRunner.run - Elapsed: 1504.8364 sec\n",
      "2025-05-06 18:49:54,318 - my_library.utils.timeit - INFO - [End] run_runner - Elapsed: 1504.8384 sec\n",
      "2025-05-06 18:49:54,319 - my_library.utils.timeit - INFO - [Start] run_runner\n",
      "2025-05-06 18:49:54,320 - my_library.validations.validation_runner - INFO - Initialized ValidationRunner | model=CustomTabNetModel task=classification\n",
      "2025-05-06 18:49:54,321 - my_library.utils.timeit - INFO - [Start] ValidationRunner.run\n",
      "2025-05-06 18:49:54,322 - my_library.validations.validation_runner - INFO - Validation run started.\n",
      "2025-05-06 18:49:54,323 - CustomTabNetModel - INFO - Initialized CustomTabNetModel on device=cpu.\n",
      "2025-05-06 18:49:54,324 - CustomTabNetModel - INFO - Initialized CustomTabNetModel on device=cpu.\n",
      "2025-05-06 18:49:54,326 - my_library.validations.validation_runner - INFO - [Fold 1] Train=(80000, 200), Valid=(20000, 200),                 use_gpu=False\n",
      "2025-05-06 18:49:54,325 - CustomTabNetModel - INFO - Initialized CustomTabNetModel on device=cpu.\n",
      "2025-05-06 18:49:54,328 - my_library.validations.validator - INFO - Initialized Validator for model: CustomTabNetModel\n",
      "2025-05-06 18:49:54,328 - my_library.validations.validation_runner - INFO - [Fold 2] Train=(80000, 200), Valid=(20000, 200),                 use_gpu=False\n",
      "2025-05-06 18:49:54,325 - CustomTabNetModel - INFO - Initialized CustomTabNetModel on device=cpu.\n",
      "2025-05-06 18:49:54,329 - my_library.validations.validator - INFO - Training start | model=CustomTabNetModel samples=80000 features=200\n",
      "2025-05-06 18:49:54,329 - my_library.validations.validation_runner - INFO - [Fold 3] Train=(80000, 200), Valid=(20000, 200),                 use_gpu=False\n",
      "2025-05-06 18:49:54,326 - CustomTabNetModel - INFO - Initialized CustomTabNetModel on device=cpu.\n",
      "2025-05-06 18:49:54,331 - my_library.validations.validation_runner - INFO - [Fold 4] Train=(80000, 200), Valid=(20000, 200),                 use_gpu=False\n",
      "2025-05-06 18:49:54,329 - my_library.validations.validator - INFO - Initialized Validator for model: CustomTabNetModel\n",
      "2025-05-06 18:49:54,327 - CustomTabNetModel - INFO - Initialized CustomTabNetModel on device=cpu.\n",
      "2025-05-06 18:49:54,330 - my_library.validations.validator - INFO - Initialized Validator for model: CustomTabNetModel\n",
      "2025-05-06 18:49:54,332 - my_library.validations.validation_runner - INFO - [Fold 5] Train=(80000, 200), Valid=(20000, 200),                 use_gpu=False\n",
      "2025-05-06 18:49:54,332 - my_library.validations.validator - INFO - Initialized Validator for model: CustomTabNetModel\n",
      "2025-05-06 18:49:54,332 - my_library.validations.validator - INFO - Training start | model=CustomTabNetModel samples=80000 features=200\n",
      "2025-05-06 18:49:54,333 - my_library.validations.validator - INFO - Initialized Validator for model: CustomTabNetModel\n",
      "2025-05-06 18:49:54,334 - my_library.validations.validator - INFO - Training start | model=CustomTabNetModel samples=80000 features=200\n",
      "2025-05-06 18:49:54,335 - my_library.validations.validator - INFO - Training start | model=CustomTabNetModel samples=80000 features=200\n",
      "2025-05-06 18:49:54,337 - my_library.validations.validator - INFO - Training start | model=CustomTabNetModel samples=80000 features=200\n"
     ]
    },
    {
     "name": "stdout",
     "output_type": "stream",
     "text": [
      "\n",
      "Early stopping occurred at epoch 35 with best_epoch = 15 and best_valid_accuracy = 0.99235\n"
     ]
    },
    {
     "name": "stderr",
     "output_type": "stream",
     "text": [
      "/Users/kentookubo/Documents/Projects/ML_competitions/kaggle-venv/lib/python3.11/site-packages/pytorch_tabnet/callbacks.py:172: UserWarning: Best weights from best epoch are automatically used!\n",
      "  warnings.warn(wrn_msg)\n",
      "2025-05-06 19:19:30,637 - CustomTabNetModel - INFO - TabNet training completed.\n",
      "2025-05-06 19:19:30,730 - my_library.validations.validator - INFO - Training completed.\n",
      "2025-05-06 19:19:35,357 - my_library.validations.validation_runner - INFO - [Fold 1] Score=0.9923\n"
     ]
    },
    {
     "name": "stdout",
     "output_type": "stream",
     "text": [
      "\n",
      "Early stopping occurred at epoch 37 with best_epoch = 17 and best_valid_accuracy = 0.9926\n"
     ]
    },
    {
     "name": "stderr",
     "output_type": "stream",
     "text": [
      "/Users/kentookubo/Documents/Projects/ML_competitions/kaggle-venv/lib/python3.11/site-packages/pytorch_tabnet/callbacks.py:172: UserWarning: Best weights from best epoch are automatically used!\n",
      "  warnings.warn(wrn_msg)\n",
      "2025-05-06 19:20:22,843 - CustomTabNetModel - INFO - TabNet training completed.\n",
      "2025-05-06 19:20:22,904 - my_library.validations.validator - INFO - Training completed.\n",
      "2025-05-06 19:20:26,607 - my_library.validations.validation_runner - INFO - [Fold 2] Score=0.9926\n"
     ]
    },
    {
     "name": "stdout",
     "output_type": "stream",
     "text": [
      "\n",
      "Early stopping occurred at epoch 42 with best_epoch = 22 and best_valid_accuracy = 0.9924\n"
     ]
    },
    {
     "name": "stderr",
     "output_type": "stream",
     "text": [
      "/Users/kentookubo/Documents/Projects/ML_competitions/kaggle-venv/lib/python3.11/site-packages/pytorch_tabnet/callbacks.py:172: UserWarning: Best weights from best epoch are automatically used!\n",
      "  warnings.warn(wrn_msg)\n",
      "2025-05-06 19:22:27,937 - CustomTabNetModel - INFO - TabNet training completed.\n",
      "2025-05-06 19:22:27,990 - my_library.validations.validator - INFO - Training completed.\n",
      "2025-05-06 19:22:31,071 - my_library.validations.validation_runner - INFO - [Fold 5] Score=0.9924\n"
     ]
    },
    {
     "name": "stdout",
     "output_type": "stream",
     "text": [
      "\n",
      "Early stopping occurred at epoch 56 with best_epoch = 36 and best_valid_accuracy = 0.9923\n"
     ]
    },
    {
     "name": "stderr",
     "output_type": "stream",
     "text": [
      "/Users/kentookubo/Documents/Projects/ML_competitions/kaggle-venv/lib/python3.11/site-packages/pytorch_tabnet/callbacks.py:172: UserWarning: Best weights from best epoch are automatically used!\n",
      "  warnings.warn(wrn_msg)\n"
     ]
    },
    {
     "name": "stdout",
     "output_type": "stream",
     "text": [
      "\n",
      "Early stopping occurred at epoch 56 with best_epoch = 36 and best_valid_accuracy = 0.9913\n"
     ]
    },
    {
     "name": "stderr",
     "output_type": "stream",
     "text": [
      "/Users/kentookubo/Documents/Projects/ML_competitions/kaggle-venv/lib/python3.11/site-packages/pytorch_tabnet/callbacks.py:172: UserWarning: Best weights from best epoch are automatically used!\n",
      "  warnings.warn(wrn_msg)\n",
      "2025-05-06 19:25:33,978 - CustomTabNetModel - INFO - TabNet training completed.\n",
      "2025-05-06 19:25:34,020 - my_library.validations.validator - INFO - Training completed.\n",
      "2025-05-06 19:25:34,308 - CustomTabNetModel - INFO - TabNet training completed.\n",
      "2025-05-06 19:25:34,344 - my_library.validations.validator - INFO - Training completed.\n",
      "2025-05-06 19:25:36,260 - my_library.validations.validation_runner - INFO - [Fold 3] Score=0.9923\n",
      "2025-05-06 19:25:36,359 - my_library.validations.validation_runner - INFO - [Fold 4] Score=0.9913\n",
      "2025-05-06 19:25:36,371 - my_library.validations.validation_runner - INFO - Validation completed | mean=0.9922 std=0.0005\n",
      "2025-05-06 19:25:36,372 - my_library.utils.timeit - INFO - [End] ValidationRunner.run - Elapsed: 2142.0503 sec\n",
      "2025-05-06 19:25:36,373 - my_library.utils.timeit - INFO - [End] run_runner - Elapsed: 2142.0529 sec\n"
     ]
    }
   ],
   "source": [
    "# 時間計測（3パターン）\n",
    "results_cpu_serial = run_runner(use_gpu=False, parallel_mode=False)\n",
    "results_cpu_parallel = run_runner(use_gpu=False, parallel_mode=True)\n",
    "# results_gpu_serial = run_runner(use_gpu=True, parallel_mode=False)"
   ]
  },
  {
   "cell_type": "raw",
   "id": "c4789a92-3459-4c21-9458-775e272d83bf",
   "metadata": {},
   "source": [
    "1504.8384 sec, 2142.0529 sec, "
   ]
  },
  {
   "cell_type": "code",
   "execution_count": 8,
   "id": "04b6426f-e72c-4257-8e0f-84ac344622c3",
   "metadata": {},
   "outputs": [],
   "source": [
    "# OptunaによるGPUチューニング\n",
    "@timeit\n",
    "def run_gpu_optuna():\n",
    "    config = TabNetConfig(\n",
    "        task_type=\"classification\",\n",
    "        params={},  # 初期は空でもOK\n",
    "        use_gpu=True\n",
    "    )\n",
    "    tuner = OptunaValidationTuner(\n",
    "        model_class=CustomTabNetModel,\n",
    "        model_configs=config,\n",
    "        param_space={\n",
    "            \"n_d\": [8, 16],\n",
    "            \"n_steps\": [3, 5],\n",
    "            \"learning_rate\": (0.01, 0.2),\n",
    "        },\n",
    "        folds=folds,\n",
    "        scoring=roc_auc_score,\n",
    "        predict_proba=True,\n",
    "        n_trials=5,\n",
    "        maximize=True,\n",
    "        parallel_mode=False,\n",
    "    )\n",
    "    return tuner.tune(fit_config, return_runner_results=True)\n"
   ]
  },
  {
   "cell_type": "code",
   "execution_count": 9,
   "id": "93348d2d-da86-4271-8616-0aa1f615636d",
   "metadata": {},
   "outputs": [],
   "source": [
    "# best_params, best_score, best_result = run_gpu_optuna()"
   ]
  },
  {
   "cell_type": "code",
   "execution_count": null,
   "id": "3c940a31-7494-4e7d-b3c5-e07702136575",
   "metadata": {},
   "outputs": [],
   "source": []
  }
 ],
 "metadata": {
  "kernelspec": {
   "display_name": "Python 3 (ipykernel)",
   "language": "python",
   "name": "python3"
  },
  "language_info": {
   "codemirror_mode": {
    "name": "ipython",
    "version": 3
   },
   "file_extension": ".py",
   "mimetype": "text/x-python",
   "name": "python",
   "nbconvert_exporter": "python",
   "pygments_lexer": "ipython3",
   "version": "3.11.11"
  }
 },
 "nbformat": 4,
 "nbformat_minor": 5
}
